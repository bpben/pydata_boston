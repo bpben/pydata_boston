{
 "cells": [
  {
   "cell_type": "code",
   "execution_count": 1,
   "metadata": {},
   "outputs": [],
   "source": [
    "import pandas as pd"
   ]
  },
  {
   "cell_type": "code",
   "execution_count": 5,
   "metadata": {},
   "outputs": [],
   "source": [
    "data = pd.read_excel('pydata_data.xlsx')"
   ]
  },
  {
   "cell_type": "code",
   "execution_count": 15,
   "metadata": {},
   "outputs": [],
   "source": [
    "# organizer list\n",
    "org = data.filter(regex='Your name |Your email ').dropna()\n",
    "org.columns = ['name', 'email']"
   ]
  },
  {
   "cell_type": "code",
   "execution_count": 72,
   "metadata": {},
   "outputs": [],
   "source": [
    "# types of events level of interest\n",
    "events = data.filter(regex='What types of')\n",
    "# process for clarity\n",
    "events.columns = [c.split('[')[1].strip(']') for c in events.columns]\n",
    "# topics\n",
    "topics = data['What PyData-related topics are you most interested in?']"
   ]
  },
  {
   "cell_type": "code",
   "execution_count": 73,
   "metadata": {},
   "outputs": [],
   "source": [
    "# get interest count by type\n",
    "interest = events.apply(lambda x: x.value_counts()).T\n",
    "interest = interest[['Not interested', 'Interested', 'Very interested']]\n",
    "# get total votes\n",
    "total = interest.sum(axis=1)\n",
    "# weighted vote average\n",
    "w_interest = (interest * [0, 1, 2]).sum(axis=1)/total\n",
    "# if we weight any interest\n",
    "w_any_interest = (interest * [0, 1, 1]).sum(axis=1)/total"
   ]
  },
  {
   "cell_type": "code",
   "execution_count": 64,
   "metadata": {},
   "outputs": [
    {
     "data": {
      "text/plain": [
       "Competition groups (e.g. Kaggle)                                    0.407407\n",
       "Career events (ex: job fairs)                                       0.555556\n",
       "Student presentations                                               0.653846\n",
       "Project nights                                                      0.785714\n",
       "Collaborations with universities (ex: student training sessions)    0.814815\n",
       "Hackathons                                                          0.840000\n",
       "Speaking opportunities for new practitioners                        1.111111\n",
       "\"Data for good\" projects                                            1.148148\n",
       "Lightning talks                                                     1.214286\n",
       "Tutorial sessions (Long-form or short-form)                         1.333333\n",
       "Method/Library/Tool intros and deep dives                           1.555556\n",
       "Talks by experienced practitioners                                  1.607143\n",
       "dtype: float64"
      ]
     },
     "execution_count": 64,
     "metadata": {},
     "output_type": "execute_result"
    }
   ],
   "source": [
    "w_interest.sort_values()"
   ]
  },
  {
   "cell_type": "code",
   "execution_count": 66,
   "metadata": {},
   "outputs": [
    {
     "data": {
      "text/plain": [
       "Competition groups (e.g. Kaggle)                                    0.296296\n",
       "Career events (ex: job fairs)                                       0.444444\n",
       "Student presentations                                               0.576923\n",
       "Hackathons                                                          0.640000\n",
       "Collaborations with universities (ex: student training sessions)    0.666667\n",
       "Project nights                                                      0.678571\n",
       "Speaking opportunities for new practitioners                        0.740741\n",
       "\"Data for good\" projects                                            0.888889\n",
       "Tutorial sessions (Long-form or short-form)                         0.925926\n",
       "Lightning talks                                                     0.928571\n",
       "Method/Library/Tool intros and deep dives                           0.962963\n",
       "Talks by experienced practitioners                                  1.000000\n",
       "dtype: float64"
      ]
     },
     "execution_count": 66,
     "metadata": {},
     "output_type": "execute_result"
    }
   ],
   "source": [
    "w_any_interest.sort_values()"
   ]
  },
  {
   "cell_type": "code",
   "execution_count": 77,
   "metadata": {},
   "outputs": [],
   "source": [
    "from collections import Counter\n",
    "#topics.str.split(',').values"
   ]
  },
  {
   "cell_type": "code",
   "execution_count": 83,
   "metadata": {},
   "outputs": [
    {
     "data": {
      "text/plain": [
       "Counter({'Data cleaning/munging': 2,\n",
       "         ' General statistics': 17,\n",
       "         ' Data visualization/Storytelling': 19,\n",
       "         ' Python': 27,\n",
       "         ' R': 5,\n",
       "         'Natural Language Processing': 6,\n",
       "         ' Deep Learning': 13,\n",
       "         ' Data cleaning/munging': 17,\n",
       "         ' Language-independent solutions (ex: Apache Arrow)': 7,\n",
       "         'Statistics': 17,\n",
       "         ' Diversity/Inclusion': 9,\n",
       "         ' Natural Language Processing': 6,\n",
       "         ' SQL': 7,\n",
       "         ' Ethics/Justice in technology': 6,\n",
       "         ' Julia': 4,\n",
       "         'Deep Learning': 3,\n",
       "         ' pipelines and workflow (example: project structure': 1,\n",
       "         ' git workflow with team': 1,\n",
       "         ' and pipeline management)': 1})"
      ]
     },
     "execution_count": 83,
     "metadata": {},
     "output_type": "execute_result"
    }
   ],
   "source": [
    "Counter([item for sublist in topics.str.split(',') for item in sublist])"
   ]
  },
  {
   "cell_type": "code",
   "execution_count": null,
   "metadata": {},
   "outputs": [],
   "source": []
  }
 ],
 "metadata": {
  "kernelspec": {
   "display_name": "Python 3",
   "language": "python",
   "name": "python3"
  },
  "language_info": {
   "codemirror_mode": {
    "name": "ipython",
    "version": 3
   },
   "file_extension": ".py",
   "mimetype": "text/x-python",
   "name": "python",
   "nbconvert_exporter": "python",
   "pygments_lexer": "ipython3",
   "version": "3.7.4"
  }
 },
 "nbformat": 4,
 "nbformat_minor": 2
}
